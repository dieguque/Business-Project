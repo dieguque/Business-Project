{
 "cells": [
  {
   "cell_type": "code",
   "execution_count": 1,
   "metadata": {},
   "outputs": [
    {
     "name": "stdout",
     "output_type": "stream",
     "text": [
      "here1\n"
     ]
    },
    {
     "data": {
      "image/png": "[encoded data removed]",
      "text/plain": [
       "<Figure size 432x288 with 1 Axes>"
      ]
     },
     "metadata": {
      "needs_background": "light"
     },
     "output_type": "display_data"
    }
   ],
   "source": [
    "def CalculateOverbooking (revenue_per_ticket,cost_per_voucher):\n",
    "    import numpy as np\n",
    "    import math\n",
    "    import matplotlib.pyplot as plt\n",
    "    from scipy.stats import norm\n",
    "\n",
    "\n",
    "\n",
    "#plt.style.use('bmh')\n",
    "\n",
    "\n",
    "    plt.rc('lines', linewidth=3)\n",
    "    plt.rc('font', size=16)\n",
    "\n",
    "    # revenue we make from each ticket sold ($)\n",
    "#    revenue_per_ticket = 100\n",
    "    # cost of a voucher ($)\n",
    " #   cost_per_voucher = 675\n",
    "\n",
    "    # probability any given passenger who bought a ticket will show up for his/her flight\n",
    "    p = 0.9\n",
    "\n",
    "    # total number of seats on the airplane.\n",
    "    nb_total_seats = 100\n",
    "\n",
    "    # Goal: find expected net revenue per flight as a function of `x`, the number of tickets sold beyond capaacity.\n",
    "    #    i.e. we are selling `nb_total_seats` + `x` tickets.\n",
    "    #   net revenue = (revenue from tickets) - (cost of voucher payoffs to overbook customers)\n",
    "    #  We will find net revenue for `x` = 0, 1, 2, ..., N_x\n",
    "    #  (Note we only consider `x` >= 0 b/c we at least sell a ticket for each seat!)\n",
    "    N_x = 55\n",
    "\n",
    "    # pre-allocate here. net_revenue[i] := net revenue for x = i.\n",
    "    expected_net_revenue = np.zeros((N_x,))\n",
    "\n",
    "    ## expected net revenue as a function of x\n",
    "    for x in range(N_x):\n",
    "        # mean and variance in binomial distribution for this $x$.\n",
    "        # e.g. mean is referring to the # of customers we expect to show up given we sold (nb_total_seats+x) tickets\n",
    "        mean = (nb_total_seats + x) * p\n",
    "        sig2 = (nb_total_seats + x) * p * (1 - p)\n",
    "\n",
    "        # pre-allocate expected voucher payoffs and ticket revenue we expect for this `x`\n",
    "        expected_voucher_payoffs = 0.0\n",
    "        expected_ticket_revenue = 0.0\n",
    "\n",
    "        # consider the probability that $k$ customers show up to the flight\n",
    "        # anywhere from 0, 1, 2, ..., nb_total_seats+x customers could show up\n",
    "        #    ... since we sold nb_total_seats+x tickets!\n",
    "        for k in range(nb_total_seats + x + 1):\n",
    "            # to calculate Pr(N=k| x), governed by binomial dist'n, use normal approximation to binomial\n",
    "            # let Z ~ Normal(0, 1)\n",
    "            #   Pr(N=k|x) ~ Prob(l < Z < h)\n",
    "            #   subtract cumulative distribution (cdf) functions for this\n",
    "            h = (k + 0.5 - mean) / math.sqrt(sig2)  # -0.5 is for continuity correction\n",
    "            l = (k - 0.5 - mean) / math.sqrt(sig2)\n",
    "            prob_k_show_up = norm.cdf(h) - norm.cdf(l)\n",
    "\n",
    "            # calculate ticket revenue given `k` customers show up\n",
    "            ticket_revenue = revenue_per_ticket * np.min([nb_total_seats, k])\n",
    "\n",
    "            expected_ticket_revenue += prob_k_show_up * ticket_revenue\n",
    "\n",
    "            # calculate voucher payoffs\n",
    "            voucher_payoffs = cost_per_voucher * np.max([0, k - nb_total_seats])\n",
    "\n",
    "            expected_voucher_payoffs += prob_k_show_up * voucher_payoffs\n",
    "        expected_net_revenue[x] = expected_ticket_revenue - expected_voucher_payoffs\n",
    "\n",
    "    # plot expected net revenue as a function of `x`\n",
    "\n",
    "\n",
    "    fig = plt.figure()\n",
    "    print (\"here1\")\n",
    "\n",
    "    plt.plot(range(N_x), expected_net_revenue, linewidth=3)\n",
    "    plt.xlim([0, x])\n",
    "    plt.axhline(y=0, linestyle='--', color='k')\n",
    "    plt.axhline(y=nb_total_seats * revenue_per_ticket, linestyle='--', color='r')\n",
    "    plt.xlabel('# tickets beyond capacity ($x$)')\n",
    "    plt.ylabel('Expected revenue (\\$) ')\n",
    "    plt.text(40,10000,[revenue_per_ticket,cost_per_voucher],fontdict=None) #('Revenue per Ticket:','Cost per Voucher'),loc='upper center', shadow=True)\n",
    "    plt.grid(color='g', linestyle='-', linewidth=2)\n",
    "#revenue_per_ticket cost_per_voucher\n",
    "    plt.tight_layout()\n",
    "    plt.savefig('overbook.png', format='png')\n",
    "    plt.show()\n",
    "\n",
    "CalculateOverbooking(400, 300)"
   ]
  },
  {
   "cell_type": "code",
   "execution_count": null,
   "metadata": {},
   "outputs": [],
   "source": []
  }
 ],
 "metadata": {
  "kernelspec": {
   "display_name": "Python 3",
   "language": "python",
   "name": "python3"
  },
  "language_info": {
   "codemirror_mode": {
    "name": "ipython",
    "version": 3
   },
   "file_extension": ".py",
   "mimetype": "text/x-python",
   "name": "python",
   "nbconvert_exporter": "python",
   "pygments_lexer": "ipython3",
   "version": "3.8.5"
  }
 },
 "nbformat": 4,
 "nbformat_minor": 4
}
